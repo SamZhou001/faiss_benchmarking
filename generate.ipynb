{
 "cells": [
  {
   "cell_type": "code",
   "execution_count": 1,
   "metadata": {},
   "outputs": [],
   "source": [
    "import pandas as pd\n",
    "import numpy as np\n",
    "%run run_algos.py"
   ]
  },
  {
   "cell_type": "code",
   "execution_count": 2,
   "metadata": {},
   "outputs": [
    {
     "name": "stderr",
     "output_type": "stream",
     "text": [
      "/Users/samzhou/opt/anaconda3/lib/python3.7/site-packages/ipykernel_launcher.py:9: SettingWithCopyWarning: \n",
      "A value is trying to be set on a copy of a slice from a DataFrame\n",
      "\n",
      "See the caveats in the documentation: https://pandas.pydata.org/pandas-docs/stable/user_guide/indexing.html#returning-a-view-versus-a-copy\n",
      "  if __name__ == '__main__':\n"
     ]
    }
   ],
   "source": [
    "df = pd.read_csv(\"data/media_data.csv\")\n",
    "\n",
    "# converts feature2 into array\n",
    "\n",
    "def convert(s):\n",
    "    return [float(x) for x in s.split()]\n",
    "\n",
    "for i in range(len(df['feature2'])):\n",
    "    df['feature2'][i] = convert(df['feature2'][i])\n",
    "\n",
    "# split dataset into one per store\n",
    "\n",
    "d_storedf = {}\n",
    "store_lst = list(set(df['app_id']))\n",
    "for store in store_lst:\n",
    "    d_storedf[store] = df[df['app_id'] == store]\n",
    "\n",
    "# make xb array for each store\n",
    "\n",
    "d_vecs = {}\n",
    "for store in store_lst:\n",
    "    vec_arr = []\n",
    "    for vec in d_storedf[store]['feature2']:\n",
    "        vec_arr.append(vec)\n",
    "    vec_arr = np.array([np.array(vec) for vec in vec_arr])\n",
    "    d_vecs[store] = vec_arr.astype('float32')"
   ]
  },
  {
   "cell_type": "code",
   "execution_count": 3,
   "metadata": {},
   "outputs": [],
   "source": [
    "allure = d_vecs['allure-la.myshopify.com-14850']\n",
    "bluezone = d_vecs['bluezoneplanet.myshopify.com-16639']\n",
    "skin = d_vecs['skinlingerie.myshopify.com-12741']\n",
    "cutoff = int(len(allure) * 0.8)\n",
    "# for the query to be the entire dataset instead, use the two commented out lines instead\n",
    "#test = allure[:cutoff]\n",
    "#query = allure[cutoff:]\n",
    "test = allure\n",
    "query = allure"
   ]
  },
  {
   "cell_type": "code",
   "execution_count": 4,
   "metadata": {},
   "outputs": [],
   "source": [
    "control_dur, control_bt, gt = runFlat(test, query, 20, 'L2')\n",
    "control_dur = 1/control_dur\n",
    "control_dur_2, control_bt_2, gt_2 = runFlat(test, query, 20, 'L1')\n",
    "control_dur_2 = 1/control_dur_2"
   ]
  },
  {
   "cell_type": "code",
   "execution_count": 5,
   "metadata": {},
   "outputs": [],
   "source": [
    "np.savetxt(\"data/groundtruth/alluregtL1_full.csv\", gt_2, delimiter=\",\")\n",
    "np.savetxt(\"data/groundtruth/alluregtL2_full.csv\", gt, delimiter=\",\")\n",
    "np.savetxt(\"data/vectors/allure_full.csv\", test, delimiter=\",\")\n",
    "#np.savetxt(\"data/vectors/allure_query.csv\", query, delimiter=\",\")\n",
    "times = np.asarray([[control_dur, control_bt], [control_dur_2, control_bt_2]])\n",
    "np.savetxt(\"data/groundtruth/alluregtdurs_full.csv\", times, delimiter=\",\")"
   ]
  },
  {
   "cell_type": "code",
   "execution_count": null,
   "metadata": {},
   "outputs": [],
   "source": []
  }
 ],
 "metadata": {
  "kernelspec": {
   "display_name": "Python 3",
   "language": "python",
   "name": "python3"
  },
  "language_info": {
   "codemirror_mode": {
    "name": "ipython",
    "version": 3
   },
   "file_extension": ".py",
   "mimetype": "text/x-python",
   "name": "python",
   "nbconvert_exporter": "python",
   "pygments_lexer": "ipython3",
   "version": "3.7.9"
  }
 },
 "nbformat": 4,
 "nbformat_minor": 4
}
